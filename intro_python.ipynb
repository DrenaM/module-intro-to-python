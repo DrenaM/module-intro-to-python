{
 "cells": [
  {
   "cell_type": "markdown",
   "metadata": {
    "slideshow": {
     "slide_type": "slide"
    }
   },
   "source": [
    "# Introduction to programming with Python"
   ]
  },
  {
   "cell_type": "markdown",
   "metadata": {
    "slideshow": {
     "slide_type": "slide"
    }
   },
   "source": [
    "## Python brief history \n",
    "\n",
    "Created in 1989 by Guido Van Rossum - Monty Python fan hence the name and the jokes!\n",
    "\n",
    "+ Currently there are two versions available\n",
    "  + 2.7.x (2010)\n",
    "  + 3.6.x (2016)\n",
    "\n",
    "+ Python 2.7 would be supported until 2020, but users are\n",
    "  encouraged to move to Python 3 as soon as possible ."
   ]
  },
  {
   "cell_type": "markdown",
   "metadata": {
    "slideshow": {
     "slide_type": "slide"
    }
   },
   "source": [
    "## Compiled vs interpreted languages: the picture\n",
    "\n",
    "<img src=\"interpret_vs_compile.png\"> "
   ]
  },
  {
   "cell_type": "markdown",
   "metadata": {
    "slideshow": {
     "slide_type": "slide"
    }
   },
   "source": [
    "## Interpreted vs compiled: the arguments!\n",
    "\n",
    "\n",
    "- pros:\n",
    "  - polymorphism\n",
    "  - debugging\n",
    "  - calculator (and variety of APIs)\n",
    "  - notebooks\n",
    "  - easy to communicate code to nonspecialists\n",
    "  - quick to code up\n",
    "- cons\n",
    "  - indentation (this can be pros too)\n",
    "  - error prone\n",
    "  - slow\n"
   ]
  },
  {
   "cell_type": "markdown",
   "metadata": {
    "slideshow": {
     "slide_type": "slide"
    }
   },
   "source": [
    "## Several APIs for working with Python \n",
    "\n",
    "\n",
    "<table>\n",
    "    <tr>\n",
    "        <td> Basic python </td>\n",
    "        <td> Ipython </td>\n",
    "    </tr>\n",
    "    <tr>\n",
    "    <td>  <img src=\"basic_python.png\" > </td>\n",
    "    <td> <img src=\"ipython.png\"> </td>\n",
    "    </tr>\n",
    "</table>\n",
    "\n",
    "<table>\n",
    "    <tr>\n",
    "        <td> Shell </td>\n",
    "        <td> Editors </td>\n",
    "    </tr>\n",
    "    <tr>\n",
    "    <td> <img src=\"script.png\"> </td>\n",
    "    <td> <img src=\"editors.png\"> </td>\n",
    "    </tr>\n",
    "</table>"
   ]
  },
  {
   "cell_type": "markdown",
   "metadata": {
    "slideshow": {
     "slide_type": "slide"
    }
   },
   "source": [
    "## Working with Jupyter notebook \n",
    "\n",
    "+ Edit cells\n",
    "+ Command completion and help\n",
    "+ Type of cells\n",
    "+ Executing cells \n",
    "+ Saving"
   ]
  },
  {
   "cell_type": "markdown",
   "metadata": {
    "slideshow": {
     "slide_type": "slide"
    }
   },
   "source": [
    "## Indentation \n",
    "\n",
    "Most languages don’t care about indentation\n",
    "\n",
    "Most humans do ; We tend to group similar things together\n",
    "\n",
    "Python encourages “readable” code by enforcing indentation\n",
    "\n",
    "This is also a neat solution to the fact that we deal with an interpreted language"
   ]
  },
  {
   "cell_type": "markdown",
   "metadata": {
    "slideshow": {
     "slide_type": "slide"
    }
   },
   "source": [
    "## In perspective: C++ does not care \n",
    "\n",
    "<table><tr>\n",
    "<td>  <img src=\"C_code1.png\" > </td>\n",
    "<td> <img src=\"C_code2.png\"> </td>\n",
    "<td> <img src=\"C_code3.png\"> </td>\n",
    "</tr></table>\n",
    "\n",
    "Python does! Lets experiment"
   ]
  },
  {
   "cell_type": "code",
   "execution_count": null,
   "metadata": {
    "slideshow": {
     "slide_type": "-"
    }
   },
   "outputs": [],
   "source": [
    "# experimenting with indentation\n",
    "# here we are using a loop, we will revisit this in a moment\n",
    "# Notice also the use of comments!! \n",
    "for i in range(0,10):\n",
    "    print (\"Variable i is: \", i)\n",
    "print (\"Done\\n\")"
   ]
  },
  {
   "cell_type": "markdown",
   "metadata": {
    "slideshow": {
     "slide_type": "slide"
    }
   },
   "source": [
    "## Data types \n",
    "\n",
    "### Subtopics: polymorphism and dynamic typing\n",
    "\n",
    "\n"
   ]
  },
  {
   "cell_type": "code",
   "execution_count": null,
   "metadata": {
    "slideshow": {
     "slide_type": "skip"
    }
   },
   "outputs": [],
   "source": [
    "# DATA TYPES\n",
    "\n",
    "# Numbers\n",
    "x = 3 # int, float \n",
    "y = int(3)\n",
    "z = float(3)\n",
    "w = None"
   ]
  },
  {
   "cell_type": "code",
   "execution_count": null,
   "metadata": {
    "slideshow": {
     "slide_type": "-"
    }
   },
   "outputs": [],
   "source": [
    "# String\n",
    "x = \"om\" # polymorphisim! dynamic typing\n",
    "y = 'om'\n",
    "z = \"his name is \\\"om\\\"\""
   ]
  },
  {
   "cell_type": "code",
   "execution_count": null,
   "metadata": {
    "slideshow": {
     "slide_type": "-"
    }
   },
   "outputs": [],
   "source": [
    "# Boolean\n",
    "x = True # BUT NOT x=TRUE, \n",
    "x = False \n",
    "# These are useful once we start making comparisons and checks"
   ]
  },
  {
   "cell_type": "code",
   "execution_count": null,
   "metadata": {
    "slideshow": {
     "slide_type": "-"
    }
   },
   "outputs": [],
   "source": [
    "# Lists \n",
    "x = [1 , 2.3, \"om\", False] # accessing elements, the 0-convention!"
   ]
  },
  {
   "cell_type": "code",
   "execution_count": null,
   "metadata": {},
   "outputs": [],
   "source": [
    "# Tuples\n",
    "x = (1 , 2.3, \"om\", False) # so WHAT??? not a list? \n",
    "y = 1, 2.3, \"om\", False"
   ]
  },
  {
   "cell_type": "code",
   "execution_count": null,
   "metadata": {},
   "outputs": [],
   "source": [
    "# Tuples are somewhat mysterious type, look at this however\n",
    "\n",
    "x,y = \"om\",3\n",
    "(z,y) = (\"om\",3)"
   ]
  },
  {
   "cell_type": "code",
   "execution_count": null,
   "metadata": {},
   "outputs": [],
   "source": [
    "# Dictionaries\n",
    "x = {\"om\": 1.70, 5: \"class\"}"
   ]
  },
  {
   "cell_type": "markdown",
   "metadata": {
    "slideshow": {
     "slide_type": "slide"
    }
   },
   "source": [
    "## Operations \n",
    "\n",
    "The same operator has different output depending on the data type of the inputs. This is another instance of *polymorphism* \n",
    "\n",
    "For example all the following make sense: \n",
    "\n",
    "3 + 2.5 \n",
    "\"om\" + \"iros\" \n",
    "[1 ,2] + [\"om\"] \n",
    "\n",
    "Can you imagine the outputs? Type/Value? \n",
    "\n",
    "This does not: \n",
    "\n",
    "3 + \"om\" "
   ]
  },
  {
   "cell_type": "markdown",
   "metadata": {
    "slideshow": {
     "slide_type": "-"
    }
   },
   "source": [
    "## Basic operations with numerical data\n",
    "\n",
    "\n",
    "\n",
    "```python\n",
    "# Assignment\n",
    "a = 10      # 10\n",
    "\n",
    "# Increment/Decrement\n",
    "a += 1      # 11\n",
    "a -= 1      # 10\n",
    "\n",
    "# Operations\n",
    "b = a + 1   # 11\n",
    "c = a - 1   # 9\n",
    "\n",
    "d = a * 2   # 20\n",
    "e = a / 2   # 5\n",
    "f = a % 3   # 1   (modulo or integer remainder) \n",
    "g = a ** 2  # 100 (a to the power of 2)\n",
    "\n",
    "# Operations with other variables\n",
    "d = a + b   # 21\n",
    "```"
   ]
  },
  {
   "cell_type": "markdown",
   "metadata": {
    "slideshow": {
     "slide_type": "-"
    }
   },
   "source": [
    "## Using Python as a calculator\n",
    "\n",
    "Python is based on a memory efficiency principle of working on the bare essentials and requiring user to *import* *modules* that contain additional functions \n",
    "\n",
    "To get access to several of these functions, or as we would say in Python-language, *to import these methods in the namespace* use import. Some basic ones are imported by default, e.g., max or abs (see colours below)\n",
    "\n",
    "We return to the *import* construct at the end of this lecture\n",
    "\n",
    "```python\n",
    "import math\n",
    "\n",
    "x = 3.1\n",
    "y = 2 \n",
    "# Then get access to basic mathematical functions e.g. \n",
    "\n",
    "# trigonometric\n",
    "math.sin(x)\n",
    "\n",
    "# rounding up/down\n",
    "math.floor(x)\n",
    "\n",
    "# maximum/minimum\n",
    "max(x,y) \n",
    "\n",
    "# absolute value\n",
    "abs(y)\n",
    "```\n",
    "Etc"
   ]
  },
  {
   "cell_type": "markdown",
   "metadata": {
    "slideshow": {
     "slide_type": "slide"
    }
   },
   "source": [
    "## Logical operations\n",
    "\n",
    "We can check the relationships between different types of data in Python\n",
    "\n",
    "The output of such comparisons/operations are boolean variables\n",
    "\n",
    "Lets see some examples "
   ]
  },
  {
   "cell_type": "code",
   "execution_count": null,
   "metadata": {},
   "outputs": [],
   "source": [
    "# Comparing numbers\n",
    "\n",
    "x = 1>=2 \n",
    "y = 1==2 \n",
    "1!=2"
   ]
  },
  {
   "cell_type": "code",
   "execution_count": null,
   "metadata": {},
   "outputs": [],
   "source": [
    "# Questioning membership\n",
    "x = [1,\"om\",4.5]\n",
    "\"1\" in x "
   ]
  },
  {
   "cell_type": "code",
   "execution_count": null,
   "metadata": {},
   "outputs": [],
   "source": [
    "# There is a boolean algebra to combine comparisons\n",
    "(1 <= 2) and (1 in [1,\"om\"])"
   ]
  },
  {
   "cell_type": "markdown",
   "metadata": {
    "slideshow": {
     "slide_type": "slide"
    }
   },
   "source": [
    "## Taking decisions on the basis of comparisons: if \n",
    "\n",
    "The structure is \n",
    "\n",
    "```python\n",
    "if BOOLEAN: \n",
    "    ACTION 1\n",
    "    ACTION 2 # recall indentation! \n",
    "else: \n",
    "    ACTION 3```\n",
    "\n",
    "For example: \n",
    "\n",
    "```python\n",
    "gender = \"male\"\n",
    "age = 20 \n",
    "if gender == \"female\":\n",
    "    if age > 18:\n",
    "        print(\"woman\")\n",
    "    else: \n",
    "        print(\"girl\")```\n",
    "\n",
    "What will it print???"
   ]
  },
  {
   "cell_type": "markdown",
   "metadata": {
    "slideshow": {
     "slide_type": "slide"
    }
   },
   "source": [
    "## Looping \n",
    "\n",
    "\n",
    "\n",
    "\n",
    "\n",
    "<table><tr>\n",
    "<td>  **This is the process of repeating a set of operations *when an index varies within a set*! Within the loop the data used in the operations can change** </td>\n",
    "<td> <img src=\"dullboy.jpg\"> </td>\n",
    "</tr></table>\n",
    "\n",
    "\n",
    "Python really makes use of this liberty, and the set is not necessarily a sequence, it can be many things. \n",
    "\n",
    "This is also why simple looping looks a bit complicated in Python but very complex looping is trivial!\n",
    "\n",
    "A few examples will clarify the situation"
   ]
  },
  {
   "cell_type": "code",
   "execution_count": null,
   "metadata": {},
   "outputs": [],
   "source": [
    "# The most trivial: just print 10 times the same thing on screen \n",
    "\n",
    "for i in range(9): # 1. notice the slightly bizarre way to loop, 2. Python convention 0:9\n",
    "    print(\"All work and no play makes Jack a dull boy\")\n"
   ]
  },
  {
   "cell_type": "code",
   "execution_count": null,
   "metadata": {},
   "outputs": [],
   "source": [
    "# Changing data within the operations to do something useful: \n",
    "# find the minimum and the sum of numbers stored in a list; the NON-Pythonian way\n",
    "\n",
    "x = [30,1,4,3,10.5,100]\n",
    "\n",
    "minx = x[0] \n",
    "sumx = 0.0  \n",
    "\n",
    "for i in range(len(x)): # note the len() function\n",
    "    if (x[i]<minx):\n",
    "        minx = x[i]\n",
    "    sumx = sumx + x[i] \n",
    "print(minx,sumx) "
   ]
  },
  {
   "cell_type": "code",
   "execution_count": null,
   "metadata": {},
   "outputs": [],
   "source": [
    "# Changing data within the operations to do something useful: \n",
    "# find the minimum and the sum of numbers stored in a list; the Pythonian way\n",
    "\n",
    "x = [30,1,4,3,10.5,100]\n",
    "\n",
    "minx = float(\"inf\")  # note data type!! \n",
    "sumx = 0.0  \n",
    "\n",
    "for y in x: \n",
    "    if y <minx:\n",
    "        minx = y\n",
    "    sumx += y \n",
    "print(minx,sumx) "
   ]
  },
  {
   "cell_type": "code",
   "execution_count": null,
   "metadata": {},
   "outputs": [],
   "source": [
    "# A more exotic example: customer data base at Crossfit Gym, just started, \n",
    "# have names but no subscription type. All customers have started on monthy \n",
    "# subscription, hence have paid 100, except for Om that subscribed for life and \n",
    "# has paid 10000\n",
    "\n",
    "x = { \"om\" : None, \"john\" : None, \"jenny\": None , \"maria jesus\": None }\n",
    "\n",
    "for name in x.keys(): # First exposure to something SUPER important: ATTRIBUTES\n",
    "    if (name != \"om\"): \n",
    "        x[name] = 100\n",
    "    else:\n",
    "        x[name] = 10000\n",
    "print(x)\n",
    "\n",
    "# Looking ahead: this works since x.keys() returns a list!"
   ]
  },
  {
   "cell_type": "markdown",
   "metadata": {
    "slideshow": {
     "slide_type": "slide"
    }
   },
   "source": [
    "## Data and operations in a bundle: functions\n",
    "\n",
    "Input data (if any) --> Set of operations --> Output data (if any)\n",
    "\n",
    "```python\n",
    "def name(input):\n",
    "    operations\n",
    "    return(output)\n",
    "```\n",
    "For example a function that takes as input a list and returns as outputs the min and sum\n",
    "\n",
    "```python\n",
    "def minsumfun(x): # notice polymorphism! x could be anything\n",
    "    minx = float(\"inf\")\n",
    "    sumx = 0.0  \n",
    "    for y in x: # note the len() function\n",
    "        if y <minx:\n",
    "            minx = y\n",
    "        sumx += y \n",
    "    return(minx,sumx) # notice multiple outputs\n",
    "(m,s) = minsumfun([1,5,0.3,-1]) # very Pythonian! :)\n",
    "```"
   ]
  },
  {
   "cell_type": "markdown",
   "metadata": {
    "slideshow": {
     "slide_type": "slide"
    }
   },
   "source": [
    "# Python and Object Oriented Programming (OOP)\n",
    "\n",
    "\n",
    "This is a topic that can get very deep but a working knowledge is *critical* to start benefiting from Python's possibilities. \n",
    "\n",
    "Key ideas like classes, instances and inheritance relate to this.\n",
    "\n",
    "But for now we need to understand operationally the following structure\n",
    "\n",
    "```python\n",
    "object.attribute\n",
    "```\n",
    "\n",
    "Lets revisit the x.keys() we saw earlier"
   ]
  },
  {
   "cell_type": "code",
   "execution_count": null,
   "metadata": {},
   "outputs": [],
   "source": [
    "# Examining the attributes of a dictionary, TAB very helpful!\n",
    "\n",
    "x = {} \n",
    "\n",
    "# Lets also understand better what the above operation really does!"
   ]
  },
  {
   "cell_type": "code",
   "execution_count": null,
   "metadata": {},
   "outputs": [],
   "source": [
    "# Examining the attributes of a list, TAB very helpful!\n",
    "\n",
    "x = []\n",
    "\n",
    "# Lets also understand better what the above operation really does!"
   ]
  },
  {
   "cell_type": "markdown",
   "metadata": {
    "slideshow": {
     "slide_type": "slide"
    }
   },
   "source": [
    "## Modelling data with Python\n",
    "\n",
    "+ Highlight some of the most fundamental attributes of data types and operations we can do with them\n",
    "   + Clearly once you have chosen the type you can look up for interesting attributes\n",
    "+ Comparative study of what might be the right type for the job at hand\n",
    "   + Some data types look deceptively similar"
   ]
  },
  {
   "cell_type": "markdown",
   "metadata": {
    "slideshow": {
     "slide_type": "slide"
    }
   },
   "source": [
    "## Unstructured & heterogenous data - lists\n",
    "\n",
    "When we want to store and make basic retrieval of data that might be a mix of numerical, strings, boolean the **list** might be the right tool. It is helpful if the *position* means something\n",
    "\n",
    "```python\n",
    "listname = [item1,item2,item3] \n",
    "```\n",
    "\n",
    "+ Accessing individual items:\n",
    "```python\n",
    "listname[2] # recall the 0 index\n",
    "```\n",
    "+ Accesing a contiguous range of items: *slicing\n",
    "```python\n",
    "listname[start:end] # INCLUSIVE-EXCLUSIVE\n",
    "```\n",
    "+ Negative indices!! \n",
    "```python\n",
    "listname[-2]\n",
    "listname[-start:-end] \n",
    "```\n",
    "+ Accesing arbitrary subsets: NOT THE RIGHT TYPE\n",
    "\n",
    "\n"
   ]
  },
  {
   "cell_type": "markdown",
   "metadata": {
    "slideshow": {
     "slide_type": "slide"
    }
   },
   "source": [
    "## Unstructured data - lists\n",
    "\n",
    "+ Adding lists: appends\n",
    "```python\n",
    "listname+[item4] = [item1,item2,item3,item4]\n",
    "```\n",
    "+ Append an element \n",
    "```python\n",
    "listname.append(item5)\n",
    "```\n",
    "+ Remove last element\n",
    "```python\n",
    "listname.pop(item5)\n",
    "```\n",
    "+ Recall: we can loop over lists!\n",
    "\n",
    "List is a good data type for information retrieval when we want to access individual elements, slices, when we want to loop, and when is used as a stack (last in, first out)"
   ]
  },
  {
   "cell_type": "markdown",
   "metadata": {},
   "source": [
    "## Phonebook-type data: dictionary\n",
    "\n",
    "If you have data in the form \"key,value\" that it is easy to access by giving the \"key\", and you want to easily add new records or remove existing, *dictionary* might be the right type\n",
    "\n",
    "```python\n",
    "dictname = {key1: value1, key2: value2, key3:value3} \n",
    "```\n",
    "+ Getting a value\n",
    "```python\n",
    "dictname[key1] \n",
    "```\n",
    "+ Adding a new record\n",
    "```python\n",
    "dictname[key4] = value4 \n",
    "```\n",
    "+ Accecing key names & values: these attributes return lists!! \n",
    "(recall the looping example earlier)\n",
    "```python \n",
    "dictname.keys() \n",
    "dictname.values()   \n",
    "```\n",
    "+ Deleting entries\n",
    "```python  \n",
    "del dictname[key4] \n",
    "```"
   ]
  },
  {
   "cell_type": "markdown",
   "metadata": {},
   "source": [
    "## Text data\n",
    "\n",
    "The string data type is really nicely suited for text data and comes with very useful attributes\n",
    "\n",
    "\n",
    "```python\n",
    "textname = \"\"characters\" # including spaces, special characters etc\n",
    "```\n",
    "+ Accesing individual characters and slices\n",
    "```python\n",
    "dictname[start:end]\n",
    "```\n",
    "+ Finding a string\n",
    "```python\n",
    "textname.find(string)\n",
    "```\n",
    "+ Summing up strings: append\n",
    "+ Split: this is very useful!!\n",
    "```python\n",
    "textname.split(arg) #arg is used to split the text, it returns a list!\n",
    "```\n"
   ]
  },
  {
   "cell_type": "markdown",
   "metadata": {},
   "source": [
    "## Programming challenge: basic text analytics\n",
    "\n",
    "Consider the following piece of text: (from Learning Python)\n",
    "\n",
    "*\"Why Do People use Python? Because there are many programming languages available today, this is the usual first\n",
    "question of newcomers. Given that there are roughly 1 million Python users out there\n",
    "at the moment, there really is no way to answer this question with complete accuracy;\n",
    "the choice of development tools is sometimes based on unique constraints or personal\n",
    "preference.\" *\n",
    "\n",
    "Write a Python code that:\n",
    "+ counts how many sentences there are in the text\n",
    "+ counts how many words there are in the text\n",
    "+ finds all the different words in the text and for each computes the frequency of its appearance and stores the output of this analysis in a convenient way so that it is easy later to find out how often a given word appears\n",
    "\n",
    "Try to do this in the next 10 minutes! "
   ]
  },
  {
   "cell_type": "markdown",
   "metadata": {},
   "source": [
    "## Reading and writing from files\n",
    "\n",
    "We can think of files as data types actually! Python effectively does this, and you should then not be suprised that they have attributes etc. \n",
    "\n",
    "There are two modes, read and write\n",
    "\n",
    "To understand how Python works with such data, lets work with the text file *textfile.txt*\n"
   ]
  },
  {
   "cell_type": "code",
   "execution_count": null,
   "metadata": {},
   "outputs": [],
   "source": [
    "## Opening a file for reading\n",
    "\n",
    "f = open(\"textfile.txt\",\"r\") # indicating the read mode"
   ]
  },
  {
   "cell_type": "code",
   "execution_count": null,
   "metadata": {},
   "outputs": [],
   "source": [
    "## Lets read the lines in the file\n",
    "f.readlines()"
   ]
  },
  {
   "cell_type": "code",
   "execution_count": null,
   "metadata": {},
   "outputs": [],
   "source": [
    "# Lets do it again! ??\n",
    "f.readlines()"
   ]
  },
  {
   "cell_type": "code",
   "execution_count": null,
   "metadata": {},
   "outputs": [],
   "source": [
    "# Since we have a list, we can resort to the usual tricks, e.g. \n",
    "f = open(\"textfile.txt\",\"r\")\n",
    "linesf = f.readlines()\n",
    "for line in linesf: \n",
    "    print(line)"
   ]
  },
  {
   "cell_type": "code",
   "execution_count": null,
   "metadata": {},
   "outputs": [],
   "source": [
    "# We can also read single lines\n",
    "\n",
    "f = open(\"textfile.txt\",\"r\")\n",
    "line1 = f.readline()\n",
    "print(line1)"
   ]
  },
  {
   "cell_type": "markdown",
   "metadata": {},
   "source": [
    "## More advanced concepts: behind the scenes of value assignement\n",
    "\n",
    "This is a again a deep concept, that connects to the notion of *memory pointers*, a working knowledge of which, however, is critical to avoid creating an unintentional mess!\n",
    "\n",
    "The best way to understand what this is about is with the following example. What do you think will happen to objects a and b after these operations? \n",
    "\n",
    " "
   ]
  },
  {
   "cell_type": "code",
   "execution_count": null,
   "metadata": {},
   "outputs": [],
   "source": [
    "a = [1,2,5]\n",
    "b = a\n",
    "b[2] = 10"
   ]
  },
  {
   "cell_type": "markdown",
   "metadata": {},
   "source": [
    "## Copy vs assignement\n",
    "\n",
    "What happens is that really a and b are *pointers* to the same address in the memory and share the same data. \n",
    "\n",
    "The way to create an object that will *copy* the data in a but not *share* the data with a is to do a ... copy! \n",
    "\n",
    "```python\n",
    "b = a.copy()\n",
    "```\n",
    "\n",
    "Things become a little trickier (although it does make perfect sense!) when you deal with lists of lists; for this reason there is also the deepcopy. Try at home what happens with the following example"
   ]
  },
  {
   "cell_type": "code",
   "execution_count": null,
   "metadata": {},
   "outputs": [],
   "source": [
    "a = [1,[2,3],5,\"om\"] \n",
    "b = a.copy()\n",
    "b[1].append(100)\n",
    "## Print a, b and be surprised!\n",
    "## Try now b=a.deepcopy()"
   ]
  },
  {
   "cell_type": "markdown",
   "metadata": {},
   "source": [
    "## More advanced concepts: classes, instances and inheritance\n",
    "\n",
    "This is a step further from the object.attribute story\n",
    "\n",
    "The short, precise but incomprehensible story: Classes are factories of multiple instances\n",
    "\n",
    "The longer, looser but workable story: Classes is a vehicle to define objects with determined attributes\n",
    "\n",
    "The attribution that class permits makes it distinct from a function, the other main tool in Python to work with data and operations. In fact, functions can become attributes of a class, and we have been using this all the way! \n"
   ]
  },
  {
   "cell_type": "code",
   "execution_count": null,
   "metadata": {},
   "outputs": [],
   "source": [
    "## Example of class: \n",
    "\n",
    "class Shape2d:\n",
    "    def __init__(self,x,y): # this is a way to pass data into the instances of this class\n",
    "        self.x = x          # it is a function!\n",
    "        self.y = y\n",
    "    \n",
    "    def area(self): \n",
    "        return self.x*self.y\n",
    "    \n",
    "    def perimeter(self):\n",
    "        return 2 * self.x + 2 * self.y\n"
   ]
  },
  {
   "cell_type": "code",
   "execution_count": null,
   "metadata": {},
   "outputs": [],
   "source": [
    "# Instatiating the class\n",
    "\n",
    "my2dshape = Shape2d(3,4)"
   ]
  },
  {
   "cell_type": "code",
   "execution_count": null,
   "metadata": {},
   "outputs": [],
   "source": [
    "# See the attributes at work! recall TAB!\n",
    "\n",
    "my2dshape.area()"
   ]
  },
  {
   "cell_type": "code",
   "execution_count": null,
   "metadata": {},
   "outputs": [],
   "source": [
    "# Example of inheritance\n",
    "\n",
    "class Shape3d(Shape2d):\n",
    "    def __init__(self,x,y,z):\n",
    "        self.z = z\n",
    "        self.x = x\n",
    "        self.y = y\n",
    "        \n",
    "    def volume(self):\n",
    "        return self.area()*self.z"
   ]
  },
  {
   "cell_type": "markdown",
   "metadata": {},
   "source": [
    "## More advanced concepts: mudules and imports\n",
    "\n",
    "*Modules* are python files, recognised in the computer as filename.py\n",
    "\n",
    "Data and methods (functions) defined in the module can become part of Python's *namespace* by using *import* (which we saw with math functions earlier) \n",
    "\n",
    "To appreciate what the name space contains lets experiment with the following"
   ]
  },
  {
   "cell_type": "code",
   "execution_count": null,
   "metadata": {},
   "outputs": [],
   "source": [
    "x = sin(5)"
   ]
  },
  {
   "cell_type": "code",
   "execution_count": null,
   "metadata": {},
   "outputs": [],
   "source": [
    "from math import sin\n",
    "x = sin(5)\n",
    "print(x)"
   ]
  },
  {
   "cell_type": "code",
   "execution_count": null,
   "metadata": {},
   "outputs": [],
   "source": [
    "sin = 3\n",
    "print(sin(3))"
   ]
  },
  {
   "cell_type": "markdown",
   "metadata": {},
   "source": [
    "## Typical import structures\n",
    "\n",
    "```python\n",
    "from math import sin # imports a single function\n",
    "\n",
    "from math import sin as sinus # nickname, this is useful when the function imported has long and complicated name\n",
    "\n",
    "\n",
    "import math # this imports the module in the name space, methods can then be accessed e.g.\n",
    "math.sin(3)\n",
    "\n",
    "from math import * #imports all methods in the namespace, not recommended!\n",
    "\n",
    "```"
   ]
  },
  {
   "cell_type": "code",
   "execution_count": 1,
   "metadata": {},
   "outputs": [
    {
     "name": "stdout",
     "output_type": "stream",
     "text": [
      "hello world\n"
     ]
    }
   ],
   "source": [
    "# Another import example: importing my own functions\n",
    "\n",
    "from omsuselessfunctions import themostuselessfunctionever as f1\n",
    "\n",
    "f1()\n"
   ]
  },
  {
   "cell_type": "markdown",
   "metadata": {},
   "source": [
    "## More advanced concepts: default values and variable number of arguments in functions\n",
    "\n",
    "In Python we get to assign default values to inputs of functions. For example \n",
    "\n",
    "```python\n",
    "def f(a=1, b=2):\n",
    "    return a+b\n",
    "\n",
    "# This can be validly be called in the following ways (guess the answers!)\n",
    "\n",
    "f()\n",
    "f(10)\n",
    "f(b=4)\n",
    "f(10,4)\n",
    "f(a=10,b=4)\n",
    "f(b=4,a=10)\n",
    "\n",
    "# but NOT like this!!!\n",
    "f(a=10,4)\n",
    "```"
   ]
  },
  {
   "cell_type": "markdown",
   "metadata": {},
   "source": [
    "## Variable number of arguments\n",
    "\n",
    "There are instances in intermediate programming with Python that we wish a function to be able to handle an a priori unspecified number of arguments\n",
    "\n",
    "An example: I want to write a function that returns the maximum of a set of numbers, that will be passed on as arguments, and will work regardless of how many numbers are passed on. \n",
    "\n",
    "I would also like the function to default to Inf if no number is passed on. "
   ]
  },
  {
   "cell_type": "code",
   "execution_count": 6,
   "metadata": {},
   "outputs": [],
   "source": [
    "# Function for maximum of a variable number of inputs\n",
    "\n",
    "def maxmany(x=float(\"inf\"),*extra): # this specification makes \n",
    "    #                               extra a tuple!!\n",
    "    runmax = x\n",
    "    for y in extra: \n",
    "        if runmax<y:\n",
    "            runmax = y\n",
    "    return(runmax)\n",
    "\n",
    "# What is going on behind the scenes is that * unpacks a tuple!!"
   ]
  },
  {
   "cell_type": "markdown",
   "metadata": {},
   "source": [
    "## Passing on dictionaries as inputs\n",
    "\n",
    "The previous idea can be taken a step further by passing on dictionaries as inputs. \n",
    "\n",
    "Dictionaries are unpacked by ** \n",
    "\n",
    "This is particularly useful since often we like to specify parameters in a function and refer to them with intuitive names. \n",
    "\n",
    "Consider the following example\n"
   ]
  },
  {
   "cell_type": "code",
   "execution_count": 19,
   "metadata": {},
   "outputs": [],
   "source": [
    "# The following function returns the log-density evaluated at a given \n",
    "# input value of 3 different distributions \n",
    "# - omitting here the normalising constants for simplicity\n",
    "\n",
    "def dens(x,kind,**params): \n",
    "    #x will be the value at which we wish to compute the density\n",
    "    #kind will specify the distribution\n",
    "    # params will be a dictionary that will give the parameters\n",
    "    from math import log\n",
    "    if kind == \"Gauss\":\n",
    "        logf = -((x-params[\"mu\"])**2)/(2*params[\"sigmasq\"])\n",
    "    elif kind == \"Exp\":\n",
    "        logf = -params[\"theta\"]*x\n",
    "    else: \n",
    "        logf = x*log(params[\"p\"])+(1-x)*log(1-params[\"p\"])\n",
    "    return(logf)"
   ]
  }
 ],
 "metadata": {
  "celltoolbar": "Slideshow",
  "kernelspec": {
   "display_name": "Python 3",
   "language": "python",
   "name": "python3"
  },
  "language_info": {
   "codemirror_mode": {
    "name": "ipython",
    "version": 3
   },
   "file_extension": ".py",
   "mimetype": "text/x-python",
   "name": "python",
   "nbconvert_exporter": "python",
   "pygments_lexer": "ipython3",
   "version": "3.6.5"
  }
 },
 "nbformat": 4,
 "nbformat_minor": 2
}
